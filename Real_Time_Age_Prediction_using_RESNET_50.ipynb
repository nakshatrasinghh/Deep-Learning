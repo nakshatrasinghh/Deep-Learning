{
  "nbformat": 4,
  "nbformat_minor": 0,
  "metadata": {
    "colab": {
      "name": "Real Time Age Prediction using RESNET 50.ipynb",
      "provenance": [],
      "collapsed_sections": []
    },
    "kernelspec": {
      "name": "python3",
      "display_name": "Python 3"
    },
    "accelerator": "GPU"
  },
  "cells": [
    {
      "cell_type": "markdown",
      "metadata": {
        "id": "CX9zDq8VZd7V",
        "colab_type": "text"
      },
      "source": [
        "##*Real Time Age Prediction Using Pretrained ResNet50*\n",
        "By Nakshatra Singh"
      ]
    },
    {
      "cell_type": "markdown",
      "metadata": {
        "id": "COr4jUmnZmXM",
        "colab_type": "text"
      },
      "source": [
        "This notebook will show you how to use pretrained resnet50 for *Real Time Age Prediction*."
      ]
    },
    {
      "cell_type": "markdown",
      "metadata": {
        "id": "0tL_3nWWZxBz",
        "colab_type": "text"
      },
      "source": [
        "##Using Google GPU for Training\n",
        "\n",
        "Google colab offers free GPUs and TPUs! Since we'll be training a large model it's best to take advantage of this (in this case we'll use GPU), otherwise training can take long time.\n",
        "\n",
        "A GPU can be added by going to the menu and selecting:\n",
        "\n",
        "`Edit -> Notebook Settings -> Hardware Accelerator -> (GPU)`\n",
        "\n",
        "Then run the following cell to confirm that a GPU is detected. "
      ]
    },
    {
      "cell_type": "code",
      "metadata": {
        "id": "RIum5s4ZZykq",
        "colab_type": "code",
        "colab": {
          "base_uri": "https://localhost:8080/",
          "height": 34
        },
        "outputId": "d1f94bd8-692e-4645-d2d7-533511d131d2"
      },
      "source": [
        "import tensorflow as tf\n",
        "# Get the device GPU name \n",
        "device_name = tf.test.gpu_device_name()\n",
        "\n",
        "# The device name should look like the following:\n",
        "if device_name == '/device:GPU:0':\n",
        "  print('Found GPU at : {}'.format(device_name)) \n",
        "else:\n",
        "  raise SystemError('GPU not found!')"
      ],
      "execution_count": 1,
      "outputs": [
        {
          "output_type": "stream",
          "text": [
            "Found GPU at : /device:GPU:0\n"
          ],
          "name": "stdout"
        }
      ]
    },
    {
      "cell_type": "markdown",
      "metadata": {
        "id": "i9mLlwYZ_x8x",
        "colab_type": "text"
      },
      "source": [
        "###**1. ResNet50**"
      ]
    },
    {
      "cell_type": "markdown",
      "metadata": {
        "id": "EyMVcDl8Ulec",
        "colab_type": "text"
      },
      "source": [
        "ResNet is one of the most powerful deep neural networks which has achieved fantabulous performance results in the ILSVRC 2015 classification challenge. ResNet has achieved excellent generalization performance on other recognition tasks and won the first place on ImageNet detection, ImageNet localization, COCO detection and COCO segmentation in ILSVRC and COCO 2015 competitions. There are many variants of ResNet architecture i.e. same concept but with a different number of layers. We have ResNet-18, ResNet-34, ResNet-50, ResNet-101, ResNet-110, ResNet-152, ResNet-164, ResNet-1202 etc. The name ResNet followed by a two or more digit number simply implies the ResNet architecture with a certain number of neural network layers.\n",
        "\n",
        "<img src=\"https://miro.medium.com/max/858/1*aq0q7gCvuNUqnMHh4cpnIw.png\" height= \"320\" width= \"635\">"
      ]
    },
    {
      "cell_type": "markdown",
      "metadata": {
        "id": "oPkTrjrLZ2gK",
        "colab_type": "text"
      },
      "source": [
        "###**2. Retrieve and Inspect Dataset**"
      ]
    },
    {
      "cell_type": "markdown",
      "metadata": {
        "id": "8eVMUzCrZ6G4",
        "colab_type": "text"
      },
      "source": [
        "Let's download the dataset which is uploaded on my [{Github Repository}](https://github.com/nakshatrasinghh/Image-Dataset-for-Age-Prediction)."
      ]
    },
    {
      "cell_type": "code",
      "metadata": {
        "id": "nwyZKpoAPnAV",
        "colab_type": "code",
        "colab": {
          "base_uri": "https://localhost:8080/",
          "height": 121
        },
        "outputId": "82df57d4-07b5-4084-d12c-afc13ff3b3d6"
      },
      "source": [
        "!git clone https://github.com/nakshatrasinghh/Image-Dataset-for-Age-Prediction.git"
      ],
      "execution_count": null,
      "outputs": [
        {
          "output_type": "stream",
          "text": [
            "Cloning into 'Image-Dataset-for-Age-Prediction'...\n",
            "remote: Enumerating objects: 23797, done.\u001b[K\n",
            "remote: Total 23797 (delta 0), reused 0 (delta 0), pack-reused 23797\u001b[K\n",
            "Receiving objects: 100% (23797/23797), 1.27 GiB | 41.69 MiB/s, done.\n",
            "Resolving deltas: 100% (4/4), done.\n",
            "Checking out files: 100% (24109/24109), done.\n"
          ],
          "name": "stdout"
        }
      ]
    },
    {
      "cell_type": "markdown",
      "metadata": {
        "id": "hoMhhbcmaghQ",
        "colab_type": "text"
      },
      "source": [
        "###**3. Ktrain**"
      ]
    },
    {
      "cell_type": "markdown",
      "metadata": {
        "id": "9TOYjDS3_6oT",
        "colab_type": "text"
      },
      "source": [
        "ktrain is a lightweight wrapper for the deep learning library TensorFlow Keras (and other libraries) to help build, train, and deploy neural networks and other machine learning models. Inspired by ML framework extensions like fastai and ludwig, it is designed to make deep learning and AI more accessible and easier to apply for both newcomers and experienced practitioners. With only a few lines of code, ktrain allows you to easily and quickly.\n",
        "\n",
        "Next, let's install the *`Ktrain`* library from this [Github Repository](https://github.com/amaiya/ktrain)."
      ]
    },
    {
      "cell_type": "code",
      "metadata": {
        "id": "sUER5OZ7s8L5",
        "colab_type": "code",
        "colab": {
          "base_uri": "https://localhost:8080/",
          "height": 1000
        },
        "outputId": "95769c5e-1db6-4341-8442-c254143b4a14"
      },
      "source": [
        "!pip install ktrain "
      ],
      "execution_count": null,
      "outputs": [
        {
          "output_type": "stream",
          "text": [
            "Collecting ktrain\n",
            "\u001b[?25l  Downloading https://files.pythonhosted.org/packages/b9/b1/f61f03d2bbe4f8615b9643090994914b418569d6f87b9805328b43840e50/ktrain-0.21.3.tar.gz (25.3MB)\n",
            "\u001b[K     |████████████████████████████████| 25.3MB 129kB/s \n",
            "\u001b[?25hRequirement already satisfied: scikit-learn>=0.21.3 in /usr/local/lib/python3.6/dist-packages (from ktrain) (0.22.2.post1)\n",
            "Requirement already satisfied: matplotlib>=3.0.0 in /usr/local/lib/python3.6/dist-packages (from ktrain) (3.2.2)\n",
            "Requirement already satisfied: pandas>=1.0.1 in /usr/local/lib/python3.6/dist-packages (from ktrain) (1.0.5)\n",
            "Requirement already satisfied: fastprogress>=0.1.21 in /usr/local/lib/python3.6/dist-packages (from ktrain) (1.0.0)\n",
            "Collecting keras_bert>=0.81.0\n",
            "  Downloading https://files.pythonhosted.org/packages/e2/7f/95fabd29f4502924fa3f09ff6538c5a7d290dfef2c2fe076d3d1a16e08f0/keras-bert-0.86.0.tar.gz\n",
            "Requirement already satisfied: requests in /usr/local/lib/python3.6/dist-packages (from ktrain) (2.23.0)\n",
            "Requirement already satisfied: joblib in /usr/local/lib/python3.6/dist-packages (from ktrain) (0.16.0)\n",
            "Collecting langdetect\n",
            "\u001b[?25l  Downloading https://files.pythonhosted.org/packages/56/a3/8407c1e62d5980188b4acc45ef3d94b933d14a2ebc9ef3505f22cf772570/langdetect-1.0.8.tar.gz (981kB)\n",
            "\u001b[K     |████████████████████████████████| 983kB 48.5MB/s \n",
            "\u001b[?25hRequirement already satisfied: jieba in /usr/local/lib/python3.6/dist-packages (from ktrain) (0.42.1)\n",
            "Collecting cchardet\n",
            "\u001b[?25l  Downloading https://files.pythonhosted.org/packages/1e/c5/7e1a0d7b4afd83d6f8de794fce82820ec4c5136c6d52e14000822681a842/cchardet-2.1.6-cp36-cp36m-manylinux2010_x86_64.whl (241kB)\n",
            "\u001b[K     |████████████████████████████████| 245kB 45.9MB/s \n",
            "\u001b[?25hRequirement already satisfied: networkx>=2.3 in /usr/local/lib/python3.6/dist-packages (from ktrain) (2.5)\n",
            "Requirement already satisfied: bokeh in /usr/local/lib/python3.6/dist-packages (from ktrain) (2.1.1)\n",
            "Collecting seqeval\n",
            "  Downloading https://files.pythonhosted.org/packages/34/91/068aca8d60ce56dd9ba4506850e876aba5e66a6f2f29aa223224b50df0de/seqeval-0.0.12.tar.gz\n",
            "Requirement already satisfied: packaging in /usr/local/lib/python3.6/dist-packages (from ktrain) (20.4)\n",
            "Collecting transformers>=3.1.0\n",
            "\u001b[?25l  Downloading https://files.pythonhosted.org/packages/ae/05/c8c55b600308dc04e95100dc8ad8a244dd800fe75dfafcf1d6348c6f6209/transformers-3.1.0-py3-none-any.whl (884kB)\n",
            "\u001b[K     |████████████████████████████████| 890kB 49.9MB/s \n",
            "\u001b[?25hRequirement already satisfied: ipython in /usr/local/lib/python3.6/dist-packages (from ktrain) (5.5.0)\n",
            "Collecting syntok\n",
            "  Downloading https://files.pythonhosted.org/packages/8c/76/a49e73a04b3e3a14ce232e8e28a1587f8108baa665644fe8c40e307e792e/syntok-1.3.1.tar.gz\n",
            "Collecting whoosh\n",
            "\u001b[?25l  Downloading https://files.pythonhosted.org/packages/ba/19/24d0f1f454a2c1eb689ca28d2f178db81e5024f42d82729a4ff6771155cf/Whoosh-2.7.4-py2.py3-none-any.whl (468kB)\n",
            "\u001b[K     |████████████████████████████████| 471kB 41.6MB/s \n",
            "\u001b[?25hRequirement already satisfied: scipy>=0.17.0 in /usr/local/lib/python3.6/dist-packages (from scikit-learn>=0.21.3->ktrain) (1.4.1)\n",
            "Requirement already satisfied: numpy>=1.11.0 in /usr/local/lib/python3.6/dist-packages (from scikit-learn>=0.21.3->ktrain) (1.18.5)\n",
            "Requirement already satisfied: pyparsing!=2.0.4,!=2.1.2,!=2.1.6,>=2.0.1 in /usr/local/lib/python3.6/dist-packages (from matplotlib>=3.0.0->ktrain) (2.4.7)\n",
            "Requirement already satisfied: kiwisolver>=1.0.1 in /usr/local/lib/python3.6/dist-packages (from matplotlib>=3.0.0->ktrain) (1.2.0)\n",
            "Requirement already satisfied: python-dateutil>=2.1 in /usr/local/lib/python3.6/dist-packages (from matplotlib>=3.0.0->ktrain) (2.8.1)\n",
            "Requirement already satisfied: cycler>=0.10 in /usr/local/lib/python3.6/dist-packages (from matplotlib>=3.0.0->ktrain) (0.10.0)\n",
            "Requirement already satisfied: pytz>=2017.2 in /usr/local/lib/python3.6/dist-packages (from pandas>=1.0.1->ktrain) (2018.9)\n",
            "Requirement already satisfied: Keras>=2.4.3 in /usr/local/lib/python3.6/dist-packages (from keras_bert>=0.81.0->ktrain) (2.4.3)\n",
            "Collecting keras-transformer>=0.38.0\n",
            "  Downloading https://files.pythonhosted.org/packages/89/6c/d6f0c164f4cc16fbc0d0fea85f5526e87a7d2df7b077809e422a7e626150/keras-transformer-0.38.0.tar.gz\n",
            "Requirement already satisfied: idna<3,>=2.5 in /usr/local/lib/python3.6/dist-packages (from requests->ktrain) (2.10)\n",
            "Requirement already satisfied: urllib3!=1.25.0,!=1.25.1,<1.26,>=1.21.1 in /usr/local/lib/python3.6/dist-packages (from requests->ktrain) (1.24.3)\n",
            "Requirement already satisfied: chardet<4,>=3.0.2 in /usr/local/lib/python3.6/dist-packages (from requests->ktrain) (3.0.4)\n",
            "Requirement already satisfied: certifi>=2017.4.17 in /usr/local/lib/python3.6/dist-packages (from requests->ktrain) (2020.6.20)\n",
            "Requirement already satisfied: six in /usr/local/lib/python3.6/dist-packages (from langdetect->ktrain) (1.15.0)\n",
            "Requirement already satisfied: decorator>=4.3.0 in /usr/local/lib/python3.6/dist-packages (from networkx>=2.3->ktrain) (4.4.2)\n",
            "Requirement already satisfied: typing-extensions>=3.7.4 in /usr/local/lib/python3.6/dist-packages (from bokeh->ktrain) (3.7.4.3)\n",
            "Requirement already satisfied: pillow>=4.0 in /usr/local/lib/python3.6/dist-packages (from bokeh->ktrain) (7.0.0)\n",
            "Requirement already satisfied: Jinja2>=2.7 in /usr/local/lib/python3.6/dist-packages (from bokeh->ktrain) (2.11.2)\n",
            "Requirement already satisfied: PyYAML>=3.10 in /usr/local/lib/python3.6/dist-packages (from bokeh->ktrain) (3.13)\n",
            "Requirement already satisfied: tornado>=5.1 in /usr/local/lib/python3.6/dist-packages (from bokeh->ktrain) (5.1.1)\n",
            "Requirement already satisfied: filelock in /usr/local/lib/python3.6/dist-packages (from transformers>=3.1.0->ktrain) (3.0.12)\n",
            "Collecting sentencepiece!=0.1.92\n",
            "\u001b[?25l  Downloading https://files.pythonhosted.org/packages/d4/a4/d0a884c4300004a78cca907a6ff9a5e9fe4f090f5d95ab341c53d28cbc58/sentencepiece-0.1.91-cp36-cp36m-manylinux1_x86_64.whl (1.1MB)\n",
            "\u001b[K     |████████████████████████████████| 1.1MB 40.1MB/s \n",
            "\u001b[?25hRequirement already satisfied: regex!=2019.12.17 in /usr/local/lib/python3.6/dist-packages (from transformers>=3.1.0->ktrain) (2019.12.20)\n",
            "Requirement already satisfied: tqdm>=4.27 in /usr/local/lib/python3.6/dist-packages (from transformers>=3.1.0->ktrain) (4.41.1)\n",
            "Requirement already satisfied: dataclasses; python_version < \"3.7\" in /usr/local/lib/python3.6/dist-packages (from transformers>=3.1.0->ktrain) (0.7)\n",
            "Collecting sacremoses\n",
            "\u001b[?25l  Downloading https://files.pythonhosted.org/packages/7d/34/09d19aff26edcc8eb2a01bed8e98f13a1537005d31e95233fd48216eed10/sacremoses-0.0.43.tar.gz (883kB)\n",
            "\u001b[K     |████████████████████████████████| 890kB 50.3MB/s \n",
            "\u001b[?25hCollecting tokenizers==0.8.1.rc2\n",
            "\u001b[?25l  Downloading https://files.pythonhosted.org/packages/80/83/8b9fccb9e48eeb575ee19179e2bdde0ee9a1904f97de5f02d19016b8804f/tokenizers-0.8.1rc2-cp36-cp36m-manylinux1_x86_64.whl (3.0MB)\n",
            "\u001b[K     |████████████████████████████████| 3.0MB 51.0MB/s \n",
            "\u001b[?25hRequirement already satisfied: traitlets>=4.2 in /usr/local/lib/python3.6/dist-packages (from ipython->ktrain) (4.3.3)\n",
            "Requirement already satisfied: pickleshare in /usr/local/lib/python3.6/dist-packages (from ipython->ktrain) (0.7.5)\n",
            "Requirement already satisfied: pexpect; sys_platform != \"win32\" in /usr/local/lib/python3.6/dist-packages (from ipython->ktrain) (4.8.0)\n",
            "Requirement already satisfied: prompt-toolkit<2.0.0,>=1.0.4 in /usr/local/lib/python3.6/dist-packages (from ipython->ktrain) (1.0.18)\n",
            "Requirement already satisfied: setuptools>=18.5 in /usr/local/lib/python3.6/dist-packages (from ipython->ktrain) (50.3.0)\n",
            "Requirement already satisfied: simplegeneric>0.8 in /usr/local/lib/python3.6/dist-packages (from ipython->ktrain) (0.8.1)\n",
            "Requirement already satisfied: pygments in /usr/local/lib/python3.6/dist-packages (from ipython->ktrain) (2.6.1)\n",
            "Requirement already satisfied: h5py in /usr/local/lib/python3.6/dist-packages (from Keras>=2.4.3->keras_bert>=0.81.0->ktrain) (2.10.0)\n",
            "Collecting keras-pos-embd>=0.11.0\n",
            "  Downloading https://files.pythonhosted.org/packages/09/70/b63ed8fc660da2bb6ae29b9895401c628da5740c048c190b5d7107cadd02/keras-pos-embd-0.11.0.tar.gz\n",
            "Collecting keras-multi-head>=0.27.0\n",
            "  Downloading https://files.pythonhosted.org/packages/e6/32/45adf2549450aca7867deccfa04af80a0ab1ca139af44b16bc669e0e09cd/keras-multi-head-0.27.0.tar.gz\n",
            "Collecting keras-layer-normalization>=0.14.0\n",
            "  Downloading https://files.pythonhosted.org/packages/a4/0e/d1078df0494bac9ce1a67954e5380b6e7569668f0f3b50a9531c62c1fc4a/keras-layer-normalization-0.14.0.tar.gz\n",
            "Collecting keras-position-wise-feed-forward>=0.6.0\n",
            "  Downloading https://files.pythonhosted.org/packages/e3/59/f0faa1037c033059e7e9e7758e6c23b4d1c0772cd48de14c4b6fd4033ad5/keras-position-wise-feed-forward-0.6.0.tar.gz\n",
            "Collecting keras-embed-sim>=0.8.0\n",
            "  Downloading https://files.pythonhosted.org/packages/57/ef/61a1e39082c9e1834a2d09261d4a0b69f7c818b359216d4e1912b20b1c86/keras-embed-sim-0.8.0.tar.gz\n",
            "Requirement already satisfied: MarkupSafe>=0.23 in /usr/local/lib/python3.6/dist-packages (from Jinja2>=2.7->bokeh->ktrain) (1.1.1)\n",
            "Requirement already satisfied: click in /usr/local/lib/python3.6/dist-packages (from sacremoses->transformers>=3.1.0->ktrain) (7.1.2)\n",
            "Requirement already satisfied: ipython-genutils in /usr/local/lib/python3.6/dist-packages (from traitlets>=4.2->ipython->ktrain) (0.2.0)\n",
            "Requirement already satisfied: ptyprocess>=0.5 in /usr/local/lib/python3.6/dist-packages (from pexpect; sys_platform != \"win32\"->ipython->ktrain) (0.6.0)\n",
            "Requirement already satisfied: wcwidth in /usr/local/lib/python3.6/dist-packages (from prompt-toolkit<2.0.0,>=1.0.4->ipython->ktrain) (0.2.5)\n",
            "Collecting keras-self-attention==0.46.0\n",
            "  Downloading https://files.pythonhosted.org/packages/15/6b/c804924a056955fa1f3ff767945187103cfc851ba9bd0fc5a6c6bc18e2eb/keras-self-attention-0.46.0.tar.gz\n",
            "Building wheels for collected packages: ktrain, keras-bert, langdetect, seqeval, syntok, keras-transformer, sacremoses, keras-pos-embd, keras-multi-head, keras-layer-normalization, keras-position-wise-feed-forward, keras-embed-sim, keras-self-attention\n",
            "  Building wheel for ktrain (setup.py) ... \u001b[?25l\u001b[?25hdone\n",
            "  Created wheel for ktrain: filename=ktrain-0.21.3-cp36-none-any.whl size=25270203 sha256=89ee19522361fbe417b44c8a704f4fe6bf140b5a1d63febf86688c05cf9df70f\n",
            "  Stored in directory: /root/.cache/pip/wheels/d6/ef/6d/9428365b27ac1e84a77214c5718e7f8b2180007af593791247\n",
            "  Building wheel for keras-bert (setup.py) ... \u001b[?25l\u001b[?25hdone\n",
            "  Created wheel for keras-bert: filename=keras_bert-0.86.0-cp36-none-any.whl size=34145 sha256=e5258aa3a691a68925fb89f13eaff30f7ffab4302c06f8a60da1041b05ff25ef\n",
            "  Stored in directory: /root/.cache/pip/wheels/66/f0/b1/748128b58562fc9e31b907bb5e2ab6a35eb37695e83911236b\n",
            "  Building wheel for langdetect (setup.py) ... \u001b[?25l\u001b[?25hdone\n",
            "  Created wheel for langdetect: filename=langdetect-1.0.8-cp36-none-any.whl size=993195 sha256=e59ce1cbf0410374ecf333777a2d6142c2c7add40772ce93b1a7965a2582497e\n",
            "  Stored in directory: /root/.cache/pip/wheels/8d/b3/aa/6d99de9f3841d7d3d40a60ea06e6d669e8e5012e6c8b947a57\n",
            "  Building wheel for seqeval (setup.py) ... \u001b[?25l\u001b[?25hdone\n",
            "  Created wheel for seqeval: filename=seqeval-0.0.12-cp36-none-any.whl size=7423 sha256=ac72f27b138ff0ac57dbb6b845f3d35f665771c4bbbae63928371984e35a1556\n",
            "  Stored in directory: /root/.cache/pip/wheels/4f/32/0a/df3b340a82583566975377d65e724895b3fad101a3fb729f68\n",
            "  Building wheel for syntok (setup.py) ... \u001b[?25l\u001b[?25hdone\n",
            "  Created wheel for syntok: filename=syntok-1.3.1-cp36-none-any.whl size=20919 sha256=8358ba147ee52641c055148db5c41161f2d11782ca3f37c6204e20e1cd0f830a\n",
            "  Stored in directory: /root/.cache/pip/wheels/51/c6/a4/be1920586c49469846bcd2888200bdecfe109ec421dab9be2d\n",
            "  Building wheel for keras-transformer (setup.py) ... \u001b[?25l\u001b[?25hdone\n",
            "  Created wheel for keras-transformer: filename=keras_transformer-0.38.0-cp36-none-any.whl size=12942 sha256=5a9ecb35b26a32c82a7c6acf09049ff647b481357afdc10725c9eb3aa13d0027\n",
            "  Stored in directory: /root/.cache/pip/wheels/e5/fb/3a/37b2b9326c799aa010ae46a04ddb04f320d8c77c0b7e837f4e\n",
            "  Building wheel for sacremoses (setup.py) ... \u001b[?25l\u001b[?25hdone\n",
            "  Created wheel for sacremoses: filename=sacremoses-0.0.43-cp36-none-any.whl size=893257 sha256=10260aa5da216b0acfbbbfb34be4c6e44c87a889d9fc061745ebdbfdcf9b94fe\n",
            "  Stored in directory: /root/.cache/pip/wheels/29/3c/fd/7ce5c3f0666dab31a50123635e6fb5e19ceb42ce38d4e58f45\n",
            "  Building wheel for keras-pos-embd (setup.py) ... \u001b[?25l\u001b[?25hdone\n",
            "  Created wheel for keras-pos-embd: filename=keras_pos_embd-0.11.0-cp36-none-any.whl size=7554 sha256=3cd76f03203cb9f80a031c06f1a10e15aa26240411bf7ff9c292f1cb51de9a7c\n",
            "  Stored in directory: /root/.cache/pip/wheels/5b/a1/a0/ce6b1d49ba1a9a76f592e70cf297b05c96bc9f418146761032\n",
            "  Building wheel for keras-multi-head (setup.py) ... \u001b[?25l\u001b[?25hdone\n",
            "  Created wheel for keras-multi-head: filename=keras_multi_head-0.27.0-cp36-none-any.whl size=15612 sha256=6ab887c551baae11748436fdf36448abbbddc3af939153a323a6745e1184b101\n",
            "  Stored in directory: /root/.cache/pip/wheels/b5/b4/49/0a0c27dcb93c13af02fea254ff51d1a43a924dd4e5b7a7164d\n",
            "  Building wheel for keras-layer-normalization (setup.py) ... \u001b[?25l\u001b[?25hdone\n",
            "  Created wheel for keras-layer-normalization: filename=keras_layer_normalization-0.14.0-cp36-none-any.whl size=5268 sha256=2467ee7b552f7886d16676a77aeccdb93a08cdb7466812bf8a07bfbefbc218ec\n",
            "  Stored in directory: /root/.cache/pip/wheels/54/80/22/a638a7d406fd155e507aa33d703e3fa2612b9eb7bb4f4fe667\n",
            "  Building wheel for keras-position-wise-feed-forward (setup.py) ... \u001b[?25l\u001b[?25hdone\n",
            "  Created wheel for keras-position-wise-feed-forward: filename=keras_position_wise_feed_forward-0.6.0-cp36-none-any.whl size=5626 sha256=16e272ca3f737128f725946ee305307db79020755ea7f81745a7a46f9b48c2a9\n",
            "  Stored in directory: /root/.cache/pip/wheels/39/e2/e2/3514fef126a00574b13bc0b9e23891800158df3a3c19c96e3b\n",
            "  Building wheel for keras-embed-sim (setup.py) ... \u001b[?25l\u001b[?25hdone\n",
            "  Created wheel for keras-embed-sim: filename=keras_embed_sim-0.8.0-cp36-none-any.whl size=4559 sha256=a1cc99a583bbbd0398715c80d1dbdc68f4353f813c19aba1a5c7a13bc742f57a\n",
            "  Stored in directory: /root/.cache/pip/wheels/49/45/8b/c111f6cc8bec253e984677de73a6f4f5d2f1649f42aac191c8\n",
            "  Building wheel for keras-self-attention (setup.py) ... \u001b[?25l\u001b[?25hdone\n",
            "  Created wheel for keras-self-attention: filename=keras_self_attention-0.46.0-cp36-none-any.whl size=17278 sha256=0355b13b7001a2ea54618ccc17a8158c5e3239af5065c99351cb7f1c88e80f34\n",
            "  Stored in directory: /root/.cache/pip/wheels/d2/2e/80/fec4c05eb23c8e13b790e26d207d6e0ffe8013fad8c6bdd4d2\n",
            "Successfully built ktrain keras-bert langdetect seqeval syntok keras-transformer sacremoses keras-pos-embd keras-multi-head keras-layer-normalization keras-position-wise-feed-forward keras-embed-sim keras-self-attention\n",
            "Installing collected packages: keras-pos-embd, keras-self-attention, keras-multi-head, keras-layer-normalization, keras-position-wise-feed-forward, keras-embed-sim, keras-transformer, keras-bert, langdetect, cchardet, seqeval, sentencepiece, sacremoses, tokenizers, transformers, syntok, whoosh, ktrain\n",
            "Successfully installed cchardet-2.1.6 keras-bert-0.86.0 keras-embed-sim-0.8.0 keras-layer-normalization-0.14.0 keras-multi-head-0.27.0 keras-pos-embd-0.11.0 keras-position-wise-feed-forward-0.6.0 keras-self-attention-0.46.0 keras-transformer-0.38.0 ktrain-0.21.3 langdetect-1.0.8 sacremoses-0.0.43 sentencepiece-0.1.91 seqeval-0.0.12 syntok-1.3.1 tokenizers-0.8.1rc2 transformers-3.1.0 whoosh-2.7.4\n"
          ],
          "name": "stdout"
        }
      ]
    },
    {
      "cell_type": "markdown",
      "metadata": {
        "id": "hEvmUKK-bAEw",
        "colab_type": "text"
      },
      "source": [
        "Now, let's do some basic imports for this notebook. "
      ]
    },
    {
      "cell_type": "code",
      "metadata": {
        "id": "byHwEkyitILh",
        "colab_type": "code",
        "colab": {}
      },
      "source": [
        "%matplotlib inline\n",
        "import os\n",
        "import ktrain\n",
        "from ktrain import vision as vis"
      ],
      "execution_count": null,
      "outputs": []
    },
    {
      "cell_type": "markdown",
      "metadata": {
        "id": "LwFmtivnAEuw",
        "colab_type": "text"
      },
      "source": [
        "We'll be using `Regular Expression` to parse through the filename."
      ]
    },
    {
      "cell_type": "code",
      "metadata": {
        "id": "tm0prqarAAA_",
        "colab_type": "code",
        "colab": {
          "base_uri": "https://localhost:8080/",
          "height": 34
        },
        "outputId": "8e295837-3067-4248-bf8a-b6fbd18c90a3"
      },
      "source": [
        "import re\n",
        "pattern = r'([^/]+)_\\d+_\\d+_\\d+.jpg$' # Excludes everything after the bracket, d represents digits\n",
        "\n",
        "p = re.compile(pattern)\n",
        "r = p.search('100_0_0_20170112213500903.jpg') # Example filename from the dataset.\n",
        "print(r.group(1))"
      ],
      "execution_count": null,
      "outputs": [
        {
          "output_type": "stream",
          "text": [
            "100\n"
          ],
          "name": "stdout"
        }
      ]
    },
    {
      "cell_type": "markdown",
      "metadata": {
        "id": "91CPPrewccOu",
        "colab_type": "text"
      },
      "source": [
        "Let's define our path for the working dataset directory."
      ]
    },
    {
      "cell_type": "code",
      "metadata": {
        "id": "1NiPJURIA5Cw",
        "colab_type": "code",
        "colab": {}
      },
      "source": [
        "DATADIR = '/content/Image-Dataset-for-Age-Prediction/Images'"
      ],
      "execution_count": null,
      "outputs": []
    },
    {
      "cell_type": "markdown",
      "metadata": {
        "id": "vFSD-OEXc7h8",
        "colab_type": "text"
      },
      "source": [
        "`images_from_fname` is a function in vision package which renders all the images from a filename. We'll pass our complete working directory here and all the heavy-lifting will be done by the function. This function always returns 3 variables (including 2 tuples).\n",
        "\n",
        "Note: Default train-test split is 10% unless specified."
      ]
    },
    {
      "cell_type": "markdown",
      "metadata": {
        "id": "AC1jqcBfkXLt",
        "colab_type": "text"
      },
      "source": [
        "###**4. Model Building and Training with Ktrain**"
      ]
    },
    {
      "cell_type": "code",
      "metadata": {
        "id": "R8XQjy8pBA-Z",
        "colab_type": "code",
        "colab": {
          "base_uri": "https://localhost:8080/",
          "height": 314
        },
        "outputId": "73756564-019d-40e4-8922-d52a99a874ae"
      },
      "source": [
        "(train_data), (test_data), preproc = vis.images_from_fname(DATADIR,\n",
        "                      pattern=pattern,\n",
        "                      is_regression=True,\n",
        "                      random_state=42)"
      ],
      "execution_count": null,
      "outputs": [
        {
          "output_type": "stream",
          "text": [
            "/usr/local/lib/python3.6/dist-packages/ktrain/vision/data.py:718: UserWarning: Could not extract target for /content/Image-Dataset-for-Age-Prediction/Images/39_1_20170116174525125.jpg -  skipping this file\n",
            "  warnings.warn('Could not extract target for %s -  skipping this file'% (fname))\n",
            "/usr/local/lib/python3.6/dist-packages/ktrain/vision/data.py:718: UserWarning: Could not extract target for /content/Image-Dataset-for-Age-Prediction/Images/61_3_20170109150557335.jpg -  skipping this file\n",
            "  warnings.warn('Could not extract target for %s -  skipping this file'% (fname))\n",
            "/usr/local/lib/python3.6/dist-packages/ktrain/vision/data.py:718: UserWarning: Could not extract target for /content/Image-Dataset-for-Age-Prediction/Images/53__0_20170116184028385.jpg -  skipping this file\n",
            "  warnings.warn('Could not extract target for %s -  skipping this file'% (fname))\n",
            "/usr/local/lib/python3.6/dist-packages/ktrain/vision/data.py:718: UserWarning: Could not extract target for /content/Image-Dataset-for-Age-Prediction/Images/61_1_20170109142408075.jpg -  skipping this file\n",
            "  warnings.warn('Could not extract target for %s -  skipping this file'% (fname))\n",
            "/usr/local/lib/python3.6/dist-packages/ktrain/vision/data.py:718: UserWarning: Could not extract target for /content/Image-Dataset-for-Age-Prediction/Images/24_0_1_20170116220224657 .jpg -  skipping this file\n",
            "  warnings.warn('Could not extract target for %s -  skipping this file'% (fname))\n"
          ],
          "name": "stderr"
        },
        {
          "output_type": "stream",
          "text": [
            "Found 21690 validated image filenames.\n",
            "Found 2411 validated image filenames.\n"
          ],
          "name": "stdout"
        },
        {
          "output_type": "stream",
          "text": [
            "/usr/local/lib/python3.6/dist-packages/ktrain/utils.py:664: UserWarning: is_regression=True was supplied but targets are strings - casting to floats\n",
            "  warnings.warn('is_regression=True was supplied but targets are strings - casting to floats')\n",
            "/usr/local/lib/python3.6/dist-packages/ktrain/utils.py:565: UserWarning: Task is being treated as REGRESSION because either class_names argument was not supplied or is_regression=True. If this is incorrect, change accordingly.\n",
            "  'If this is incorrect, change accordingly.')\n"
          ],
          "name": "stderr"
        }
      ]
    },
    {
      "cell_type": "markdown",
      "metadata": {
        "id": "teDbyPYpeBuO",
        "colab_type": "text"
      },
      "source": [
        "The filenames which were incorrectly encoded are just ignored and not taken in training."
      ]
    },
    {
      "cell_type": "markdown",
      "metadata": {
        "id": "R_CGPN-heUYx",
        "colab_type": "text"
      },
      "source": [
        "Let's see what all models are ready for us to use."
      ]
    },
    {
      "cell_type": "code",
      "metadata": {
        "id": "yl8xdYr_BX-7",
        "colab_type": "code",
        "colab": {
          "base_uri": "https://localhost:8080/",
          "height": 155
        },
        "outputId": "29d0a291-334f-47d7-a151-bf5c0d3ebfb5"
      },
      "source": [
        "vis.print_image_regression_models() "
      ],
      "execution_count": null,
      "outputs": [
        {
          "output_type": "stream",
          "text": [
            "pretrained_resnet50: 50-layer Residual Network (pretrained on ImageNet)\n",
            "resnet50: 50-layer Resididual Network (randomly initialized)\n",
            "pretrained_mobilenet: MobileNet Neural Network (pretrained on ImageNet)\n",
            "mobilenet: MobileNet Neural Network (randomly initialized)\n",
            "pretrained_inception: Inception Version 3  (pretrained on ImageNet)\n",
            "inception: Inception Version 3 (randomly initialized)\n",
            "wrn22: 22-layer Wide Residual Network (randomly initialized)\n",
            "default_cnn: a default LeNet-like Convolutional Neural Network\n"
          ],
          "name": "stdout"
        }
      ]
    },
    {
      "cell_type": "markdown",
      "metadata": {
        "id": "ymT7dXlmeZXj",
        "colab_type": "text"
      },
      "source": [
        "We'll be using `pretrained_resnet50`."
      ]
    },
    {
      "cell_type": "code",
      "metadata": {
        "id": "EOSPz3VEB1Ml",
        "colab_type": "code",
        "colab": {
          "base_uri": "https://localhost:8080/",
          "height": 158
        },
        "outputId": "cb870dc0-cd6f-4c67-cb8a-f725d20851e3"
      },
      "source": [
        "model = vis.image_regression_model('pretrained_resnet50',\n",
        "                                   train_data = train_data,\n",
        "                                   val_data = test_data)"
      ],
      "execution_count": null,
      "outputs": [
        {
          "output_type": "stream",
          "text": [
            "The normalization scheme has been changed for use with a pretrained_resnet50 model. If you decide to use a different model, please reload your dataset with a ktrain.vision.data.images_from* function.\n",
            "\n",
            "Is Multi-Label? False\n",
            "Is Regression? True\n",
            "Downloading data from https://storage.googleapis.com/tensorflow/keras-applications/resnet/resnet50_weights_tf_dim_ordering_tf_kernels_notop.h5\n",
            "94773248/94765736 [==============================] - 1s 0us/step\n",
            "pretrained_resnet50 model created.\n"
          ],
          "name": "stdout"
        }
      ]
    },
    {
      "cell_type": "markdown",
      "metadata": {
        "id": "06PjZyKeiZCX",
        "colab_type": "text"
      },
      "source": [
        "We'll define our learner which is used in training the model and getting predictions."
      ]
    },
    {
      "cell_type": "code",
      "metadata": {
        "id": "2cwzoYmiCBbL",
        "colab_type": "code",
        "colab": {}
      },
      "source": [
        "learner = ktrain.get_learner(model = model,\n",
        "                             train_data = train_data,\n",
        "                             val_data = test_data,\n",
        "                             batch_size=64)"
      ],
      "execution_count": null,
      "outputs": []
    },
    {
      "cell_type": "markdown",
      "metadata": {
        "id": "Y1V94N-lix4w",
        "colab_type": "text"
      },
      "source": [
        "Now, we'll fit the learner with onecycle policy having parameters - learning rate=0.00001, epochs=2. You can change these hyperparameters which can change performance, I would recommend not to lower the learning rate, it will reduce your accuracy and if you want you can run it for more epochs."
      ]
    },
    {
      "cell_type": "code",
      "metadata": {
        "id": "2fvUkIdICTQV",
        "colab_type": "code",
        "colab": {
          "base_uri": "https://localhost:8080/",
          "height": 155
        },
        "outputId": "93acbbd0-5767-438a-c8c1-0f690f4d6e99"
      },
      "source": [
        "learner.fit_onecycle(1e-5, 2)   # Training on all 50 layers. "
      ],
      "execution_count": null,
      "outputs": [
        {
          "output_type": "stream",
          "text": [
            "\n",
            "\n",
            "begin training using onecycle policy with max lr of 1e-05...\n",
            "Epoch 1/2\n",
            "339/339 [==============================] - 363s 1s/step - loss: 923.9599 - mae: 24.1285 - val_loss: 440.4344 - val_mae: 15.8978\n",
            "Epoch 2/2\n",
            "339/339 [==============================] - 350s 1s/step - loss: 362.7765 - mae: 14.5246 - val_loss: 347.7791 - val_mae: 14.1301\n"
          ],
          "name": "stdout"
        },
        {
          "output_type": "execute_result",
          "data": {
            "text/plain": [
              "<tensorflow.python.keras.callbacks.History at 0x7f68520a3b38>"
            ]
          },
          "metadata": {
            "tags": []
          },
          "execution_count": 10
        }
      ]
    },
    {
      "cell_type": "markdown",
      "metadata": {
        "id": "mXKTRPGSjIg-",
        "colab_type": "text"
      },
      "source": [
        "Let's freeze the first 15 layers of the model and train it again using the last 35 layers."
      ]
    },
    {
      "cell_type": "code",
      "metadata": {
        "id": "sNWQXhcfCfRF",
        "colab_type": "code",
        "colab": {
          "base_uri": "https://localhost:8080/",
          "height": 155
        },
        "outputId": "14fd9c81-dba3-46b1-cbe3-9ce0d75173a2"
      },
      "source": [
        "learner.freeze(15)               # Freezing first 15 layers of ResNet50.\n",
        "\n",
        "learner.fit_onecycle(1e-5, 2)    # Training last 35 layers again."
      ],
      "execution_count": null,
      "outputs": [
        {
          "output_type": "stream",
          "text": [
            "\n",
            "\n",
            "begin training using onecycle policy with max lr of 1e-05...\n",
            "Epoch 1/2\n",
            "339/339 [==============================] - 420s 1s/step - loss: 172.3675 - mae: 10.3238 - val_loss: 112.2607 - val_mae: 7.7747\n",
            "Epoch 2/2\n",
            "339/339 [==============================] - 424s 1s/step - loss: 80.4011 - mae: 6.8333 - val_loss: 89.6877 - val_mae: 7.0222\n"
          ],
          "name": "stdout"
        },
        {
          "output_type": "execute_result",
          "data": {
            "text/plain": [
              "<tensorflow.python.keras.callbacks.History at 0x7f6841cf19b0>"
            ]
          },
          "metadata": {
            "tags": []
          },
          "execution_count": 11
        }
      ]
    },
    {
      "cell_type": "markdown",
      "metadata": {
        "id": "CNVPsMoRjSRw",
        "colab_type": "text"
      },
      "source": [
        "Let's get our predictor using `get_predictor`."
      ]
    },
    {
      "cell_type": "code",
      "metadata": {
        "id": "RgfoIdo2DnQK",
        "colab_type": "code",
        "colab": {}
      },
      "source": [
        "predictor = ktrain.get_predictor(learner.model, preproc)"
      ],
      "execution_count": null,
      "outputs": []
    },
    {
      "cell_type": "markdown",
      "metadata": {
        "id": "H6gwZhxvjoOA",
        "colab_type": "text"
      },
      "source": [
        "Let's take a random sample from the test set, just to see how are model works."
      ]
    },
    {
      "cell_type": "code",
      "metadata": {
        "id": "lDrfLbV9EUPB",
        "colab_type": "code",
        "colab": {
          "base_uri": "https://localhost:8080/",
          "height": 35
        },
        "outputId": "69d648a5-bb7c-457c-88be-23118bfcd7a4"
      },
      "source": [
        "test_data.filenames[10] "
      ],
      "execution_count": null,
      "outputs": [
        {
          "output_type": "execute_result",
          "data": {
            "application/vnd.google.colaboratory.intrinsic+json": {
              "type": "string"
            },
            "text/plain": [
              "'88_1_0_20170120230330380.jpg'"
            ]
          },
          "metadata": {
            "tags": []
          },
          "execution_count": 54
        }
      ]
    },
    {
      "cell_type": "markdown",
      "metadata": {
        "id": "W0BJxsWhjt6s",
        "colab_type": "text"
      },
      "source": [
        "I'll write a helper function which will help us in visualizing the result a little better."
      ]
    },
    {
      "cell_type": "code",
      "metadata": {
        "id": "8irJEvCxEo92",
        "colab_type": "code",
        "colab": {}
      },
      "source": [
        "def show_prediction(fname):\n",
        "  fname = DATADIR + '/' + fname\n",
        "  pred = round(predictor.predict_filename(fname)[0])\n",
        "  actual = int(p.search(fname).group(1))\n",
        "  vis.show_image(fname)\n",
        "  print(\"Predicted Age: %s || Actual Age: %s\" %   (pred, actual))"
      ],
      "execution_count": null,
      "outputs": []
    },
    {
      "cell_type": "markdown",
      "metadata": {
        "id": "2kQRjkREj01B",
        "colab_type": "text"
      },
      "source": [
        "Let's run the function on the sample image present in our test set."
      ]
    },
    {
      "cell_type": "code",
      "metadata": {
        "id": "aLoAmcLLFYkN",
        "colab_type": "code",
        "colab": {
          "base_uri": "https://localhost:8080/",
          "height": 286
        },
        "outputId": "d9b01fa2-c7ad-477b-e248-8c04c89bfff8"
      },
      "source": [
        "show_prediction('88_1_0_20170120230330380.jpg')"
      ],
      "execution_count": null,
      "outputs": [
        {
          "output_type": "stream",
          "text": [
            "Predicted Age: 87.0 || Actual Age: 88\n"
          ],
          "name": "stdout"
        },
        {
          "output_type": "display_data",
          "data": {
            "image/png": "[encoded data removed]",
            "text/plain": [
              "<Figure size 432x288 with 1 Axes>"
            ]
          },
          "metadata": {
            "tags": [],
            "needs_background": "light"
          }
        }
      ]
    },
    {
      "cell_type": "markdown",
      "metadata": {
        "id": "v-d4MtKGj7pc",
        "colab_type": "text"
      },
      "source": [
        "WooHoo! The model works brilliantly and is predicting the age quite accurately.  "
      ]
    },
    {
      "cell_type": "markdown",
      "metadata": {
        "id": "xi52XG-TGE0F",
        "colab_type": "text"
      },
      "source": [
        "###**5. Real-Time Age Prediction**"
      ]
    },
    {
      "cell_type": "markdown",
      "metadata": {
        "id": "1mhii_6Ekv-H",
        "colab_type": "text"
      },
      "source": [
        "This a google code snippet which I found in the code snippet section on the right, you can get this code by just typing `Camera Capture`."
      ]
    },
    {
      "cell_type": "code",
      "metadata": {
        "id": "LK6aDYtHGDlE",
        "colab_type": "code",
        "colab": {}
      },
      "source": [
        "from IPython.display import display, Javascript\n",
        "from google.colab.output import eval_js\n",
        "from base64 import b64decode\n",
        "\n",
        "def take_photo(filename='photo.jpg', quality=0.8):\n",
        "  js = Javascript('''\n",
        "    async function takePhoto(quality) {\n",
        "      const div = document.createElement('div');\n",
        "      const capture = document.createElement('button');\n",
        "      capture.textContent = 'Capture';\n",
        "      div.appendChild(capture);\n",
        "\n",
        "      const video = document.createElement('video');\n",
        "      video.style.display = 'block';\n",
        "      const stream = await navigator.mediaDevices.getUserMedia({video: true});\n",
        "\n",
        "      document.body.appendChild(div);\n",
        "      div.appendChild(video);\n",
        "      video.srcObject = stream;\n",
        "      await video.play();\n",
        "\n",
        "      // Resize the output to fit the video element.\n",
        "      google.colab.output.setIframeHeight(document.documentElement.scrollHeight, true);\n",
        "\n",
        "      // Wait for Capture to be clicked.\n",
        "      await new Promise((resolve) => capture.onclick = resolve);\n",
        "\n",
        "      const canvas = document.createElement('canvas');\n",
        "      canvas.width = video.videoWidth;\n",
        "      canvas.height = video.videoHeight;\n",
        "      canvas.getContext('2d').drawImage(video, 0, 0);\n",
        "      stream.getVideoTracks()[0].stop();\n",
        "      div.remove();\n",
        "      return canvas.toDataURL('image/jpeg', quality);\n",
        "    }\n",
        "    ''')\n",
        "  display(js)\n",
        "  data = eval_js('takePhoto({})'.format(quality))\n",
        "  binary = b64decode(data.split(',')[1])\n",
        "  with open(filename, 'wb') as f:\n",
        "    f.write(binary)\n",
        "  return filename"
      ],
      "execution_count": null,
      "outputs": []
    },
    {
      "cell_type": "markdown",
      "metadata": {
        "id": "SA9RPW6Uvfxn",
        "colab_type": "text"
      },
      "source": [
        "Run this cell to take a picture using your camera and it saves the image as `photo.jpg`. Click on the *capture* button to take the photo and continue running the other cells."
      ]
    },
    {
      "cell_type": "code",
      "metadata": {
        "id": "G1sdCCEtGDjd",
        "colab_type": "code",
        "colab": {}
      },
      "source": [
        "from IPython.display import Image\n",
        "try:\n",
        "  filename = take_photo()\n",
        "  print('Saved to {}'.format(filename))\n",
        "  \n",
        "  # Show the image which was just taken.\n",
        "  display(Image(filename))\n",
        "except Exception as err:\n",
        "  # Errors will be thrown if the user does not have a webcam or if they do not\n",
        "  # grant the page permission to access it.\n",
        "  print(str(err))"
      ],
      "execution_count": null,
      "outputs": []
    },
    {
      "cell_type": "markdown",
      "metadata": {
        "id": "H4K5i0TnlKHX",
        "colab_type": "text"
      },
      "source": [
        "Now, let's write a helper function which will input the image you captured and show real-time prediction using the `predictor` we defined earlier."
      ]
    },
    {
      "cell_type": "code",
      "metadata": {
        "id": "rrQB8ALgGUoE",
        "colab_type": "code",
        "colab": {}
      },
      "source": [
        "def real_prediction(fname):\n",
        "  pred = round(predictor.predict_filename(fname)[0])\n",
        "  vis.show_image(fname)\n",
        "  print(\"Predicted Age: %s\" % (pred)) "
      ],
      "execution_count": null,
      "outputs": []
    },
    {
      "cell_type": "markdown",
      "metadata": {
        "id": "_Xm5zExKlmuO",
        "colab_type": "text"
      },
      "source": [
        "Calling the helper function on the captured image."
      ]
    },
    {
      "cell_type": "code",
      "metadata": {
        "id": "eKcPHTcDJ5vT",
        "colab_type": "code",
        "colab": {}
      },
      "source": [
        "real_prediction('photo.jpg')"
      ],
      "execution_count": null,
      "outputs": []
    },
    {
      "cell_type": "markdown",
      "metadata": {
        "id": "yXpRutXVgSYn",
        "colab_type": "text"
      },
      "source": [
        "There you go! I hope the results were accurate, if they weren't then it could be because of *hues of light and the position in your image*, but I did notice the model is slightlynot accurate for younger ages, we can surely increase the epochs to enhance model performance."
      ]
    },
    {
      "cell_type": "markdown",
      "metadata": {
        "id": "-B7m_8g4luRJ",
        "colab_type": "text"
      },
      "source": [
        "###**6. Model Saving**\n"
      ]
    },
    {
      "cell_type": "markdown",
      "metadata": {
        "id": "QRSn9XE4lycz",
        "colab_type": "text"
      },
      "source": [
        "Let's save the model in a folder called `Age_Prediction_Model`."
      ]
    },
    {
      "cell_type": "code",
      "metadata": {
        "id": "7FsG08hOKLwW",
        "colab_type": "code",
        "colab": {}
      },
      "source": [
        "predictor.save('/content/Age_Prediction_Model')"
      ],
      "execution_count": null,
      "outputs": []
    },
    {
      "cell_type": "markdown",
      "metadata": {
        "id": "IbrjDtiSl7Ut",
        "colab_type": "text"
      },
      "source": [
        "Since it contains a preproc model and the final tensorflow model (.h5), we'll zip the files in another folder so we can download them directly from colab. "
      ]
    },
    {
      "cell_type": "code",
      "metadata": {
        "id": "q3wquxtNKRva",
        "colab_type": "code",
        "colab": {
          "base_uri": "https://localhost:8080/",
          "height": 69
        },
        "outputId": "e2f3bfef-eb43-4570-9768-c774e2362f86"
      },
      "source": [
        "!zip -r /content/Age_Prediction_Model_zip.zip /content/Age_Prediction_Model"
      ],
      "execution_count": null,
      "outputs": [
        {
          "output_type": "stream",
          "text": [
            "  adding: content/Age_Prediction_Model/ (stored 0%)\n",
            "  adding: content/Age_Prediction_Model/tf_model.h5 (deflated 9%)\n",
            "  adding: content/Age_Prediction_Model/tf_model.preproc (deflated 41%)\n"
          ],
          "name": "stdout"
        }
      ]
    },
    {
      "cell_type": "markdown",
      "metadata": {
        "id": "jQtzVZf-0f6c",
        "colab_type": "text"
      },
      "source": [
        "###**Summary**"
      ]
    },
    {
      "cell_type": "markdown",
      "metadata": {
        "id": "FcM0bDPL0lLZ",
        "colab_type": "text"
      },
      "source": [
        "This notebook illustrated how to use a pretrained resnet model for predicting age in real-time. You can definitely change the hyperparameters to achieve better results. The model suffers in predicting ages of younger people, this could be due to many reasons: \n",
        "\n",
        "- Less data for young ages\n",
        "- Hues of light falling on the face\n",
        "- Positioning of the object\n",
        "\n",
        "Special thanks to [amaiya](https://github.com/amaiya) for giving this huge contribution, this library has helped me build complex models with just few lines of code. Please check out the [repo](https://github.com/amaiya/ktrain) for more details."
      ]
    }
  ]
}